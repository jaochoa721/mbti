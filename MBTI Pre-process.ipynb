{
 "cells": [
  {
   "cell_type": "code",
   "execution_count": 26,
   "metadata": {},
   "outputs": [],
   "source": [
    "import csv, math, re\n",
    "from collections import defaultdict\n",
    "import matplotlib.pyplot as plt\n",
    "import numpy as np"
   ]
  },
  {
   "cell_type": "code",
   "execution_count": 21,
   "metadata": {},
   "outputs": [
    {
     "name": "stdout",
     "output_type": "stream",
     "text": [
      "8676 1226.1001613646831\n"
     ]
    }
   ],
   "source": [
    "typeCounts = defaultdict(int)\n",
    "data = []\n",
    "with open('mbti_1.csv', encoding=\"utf8\") as f:\n",
    "    reader = csv.reader(f)\n",
    "    counter = 0\n",
    "    averageLength = 0\n",
    "    for row in reader:\n",
    "        if counter == 0:\n",
    "            counter = 1\n",
    "            continue\n",
    "        (type, text) = row\n",
    "        data.append([type, text.split(\"|||\")])\n",
    "        averageLength += len(text.split()) / 8676\n",
    "        counter += 1\n",
    "        typeCounts[type] += 1\n",
    "print(counter, averageLength)"
   ]
  },
  {
   "cell_type": "code",
   "execution_count": 29,
   "metadata": {},
   "outputs": [
    {
     "name": "stdout",
     "output_type": "stream",
     "text": [
      "[\"'http://www.youtube.com/watch?v=qsXHcwe3krw\", 'http://41.media.tumblr.com/tumblr_lfouy03PMA1qa1rooo1_500.jpg', 'enfp and intj moments  https://www.youtube.com/watch?v=iz7lE1g4XM4  sportscenter not top ten plays  https://www.youtube.com/watch?v=uCdfze1etec  pranks', 'What has been the most life-changing experience in your life?', 'http://www.youtube.com/watch?v=vXZeYwwRDw8   http://www.youtube.com/watch?v=u8ejam5DP3E  On repeat for most of today.', 'May the PerC Experience immerse you.', 'The last thing my INFJ friend posted on his facebook before committing suicide the next day. Rest in peace~   http://vimeo.com/22842206', \"Hello ENFJ7. Sorry to hear of your distress. It's only natural for a relationship to not be perfection all the time in every moment of existence. Try to figure the hard times as times of growth, as...\", '84389  84390  http://wallpaperpassion.com/upload/23700/friendship-boy-and-girl-wallpaper.jpg  http://assets.dornob.com/wp-content/uploads/2010/04/round-home-design.jpg ...', 'Welcome and stuff.', 'http://playeressence.com/wp-content/uploads/2013/08/RED-red-the-pokemon-master-32560474-450-338.jpg  Game. Set. Match.', \"Prozac, wellbrutin, at least thirty minutes of moving your legs (and I don't mean moving them while sitting in your same desk chair), weed in moderation (maybe try edibles as a healthier alternative...\", \"Basically come up with three items you've determined that each type (or whichever types you want to do) would more than likely use, given each types' cognitive functions and whatnot, when left by...\", 'All things in moderation.  Sims is indeed a video game, and a good one at that. Note: a good one at that is somewhat subjective in that I am not completely promoting the death of any given Sim...', 'Dear ENFP:  What were your favorite video games growing up and what are your now, current favorite video games? :cool:', 'https://www.youtube.com/watch?v=QyPqT8umzmY', 'It appears to be too late. :sad:', \"There's someone out there for everyone.\", 'Wait... I thought confidence was a good thing.', \"I just cherish the time of solitude b/c i revel within my inner world more whereas most other time i'd be workin... just enjoy the me time while you can. Don't worry, people will always be around to...\", \"Yo entp ladies... if you're into a complimentary personality,well, hey.\", '... when your main social outlet is xbox live conversations and even then you verbally fatigue quickly.', 'http://www.youtube.com/watch?v=gDhy7rdfm14  I really dig the part from 1:46 to 2:50', 'http://www.youtube.com/watch?v=msqXffgh7b8', 'Banned because this thread requires it of me.', 'Get high in backyard, roast and eat marshmellows in backyard while conversing over something intellectual, followed by massages and kisses.', 'http://www.youtube.com/watch?v=Mw7eoU3BMbE', 'http://www.youtube.com/watch?v=4V2uYORhQOk', 'http://www.youtube.com/watch?v=SlVmgFQQ0TI', \"Banned for too many b's in that sentence. How could you! Think of the B!\", 'Banned for watching movies in the corner with the dunces.', 'Banned because Health class clearly taught you nothing about peer pressure.', 'Banned for a whole host of reasons!', 'http://www.youtube.com/watch?v=IRcrv41hgz4', \"1) Two baby deer on left and right munching on a beetle in the middle.  2) Using their own blood, two cavemen diary today's latest happenings on their designated cave diary wall.  3) I see it as...\", 'a pokemon world  an infj society  everyone becomes an optimist', '49142', 'http://www.youtube.com/watch?v=ZRCEq_JFeFM', 'http://discovermagazine.com/2012/jul-aug/20-things-you-didnt-know-about-deserts/desert.jpg', 'http://oyster.ignimgs.com/mediawiki/apis.ign.com/pokemon-silver-version/d/dd/Ditto.gif', 'http://www.serebii.net/potw-dp/Scizor.jpg', \"Not all artists are artists because they draw. It's the idea that counts in forming something of your own... like a signature.\", \"Welcome to the robot ranks, person who downed my self-esteem cuz I'm not an avid signature artist like herself. :proud:\", 'Banned for taking all the room under my bed. Ya gotta learn to share with the roaches.', 'http://www.youtube.com/watch?v=w8IgImn57aQ', 'Banned for being too much of a thundering, grumbling kind of storm... yep.', \"Ahh... old high school music I haven't heard in ages.   http://www.youtube.com/watch?v=dcCRUPCdB1w\", \"I failed a public speaking class a few years ago and I've sort of learned what I could do better were I to be in that position again. A big part of my failure was just overloading myself with too...\", \"I like this person's mentality. He's a confirmed INTJ by the way. http://www.youtube.com/watch?v=hGKLI-GEc6M\", \"Move to the Denver area and start a new life for myself.'\"]\n"
     ]
    }
   ],
   "source": [
    "test = data[0][1]\n",
    "print(test)"
   ]
  },
  {
   "cell_type": "code",
   "execution_count": 35,
   "metadata": {
    "scrolled": true
   },
   "outputs": [],
   "source": [
    "# Replace links with $link$\n",
    "# https://stackoverflow.com/questions/3809401/what-is-a-good-regular-expression-to-match-a-url\n",
    "link_expr = r\"(http(s)?:\\/\\/.)?(www\\.)?[-a-zA-Z0-9@:%._\\+~#=]{2,256}\\.[a-z]{2,6}\\b([-a-zA-Z0-9@:%_\\+.~#?&//=]*)\"\n",
    "\n",
    "no_links = [[type, [re.sub(expression, \"$link$\", string) for string in text]] for [type, text] in data]"
   ]
  },
  {
   "cell_type": "code",
   "execution_count": 36,
   "metadata": {},
   "outputs": [],
   "source": [
    "# replace MBTI\n",
    "# https://stackoverflow.com/questions/16720541/python-string-replace-regular-expression/16720705\n",
    "mbti_pat = r\"ISFJ|ESFP|ISFP|ISTP|ENFP|ENFJ|INFJ|ESTP|ESFJ|ESTJ|ENTP|INFP|INTP|INTJ|ISTJ|ENTJ\"\n",
    "mbti_regex = re.compile(r\"ISFJ|ESFP|ISFP|ISTP|ENFP|ENFJ|INFJ|ESTP|ESFJ|ESTJ|ENTP|INFP|INTP|INTJ|ISTJ|ENTJ\", re.IGNORECASE)\n",
    "MBTI_REP = '$MBTI$'\n",
    "\n",
    "# replace hashtags\n",
    "processed = [[type, [mbti_regex.sub(MBTI_REP, string) for string in text]] for [type, text] in data]"
   ]
  },
  {
   "cell_type": "code",
   "execution_count": 37,
   "metadata": {},
   "outputs": [
    {
     "data": {
      "text/plain": [
       "['INFJ',\n",
       " [\"'http://www.youtube.com/watch?v=qsXHcwe3krw\",\n",
       "  'http://41.media.tumblr.com/tumblr_lfouy03PMA1qa1rooo1_500.jpg',\n",
       "  '$MBTI$ and $MBTI$ moments  https://www.youtube.com/watch?v=iz7lE1g4XM4  sportscenter not top ten plays  https://www.youtube.com/watch?v=uCdfze1etec  pranks',\n",
       "  'What has been the most life-changing experience in your life?',\n",
       "  'http://www.youtube.com/watch?v=vXZeYwwRDw8   http://www.youtube.com/watch?v=u8ejam5DP3E  On repeat for most of today.',\n",
       "  'May the PerC Experience immerse you.',\n",
       "  'The last thing my $MBTI$ friend posted on his facebook before committing suicide the next day. Rest in peace~   http://vimeo.com/22842206',\n",
       "  \"Hello $MBTI$7. Sorry to hear of your distress. It's only natural for a relationship to not be perfection all the time in every moment of existence. Try to figure the hard times as times of growth, as...\",\n",
       "  '84389  84390  http://wallpaperpassion.com/upload/23700/friendship-boy-and-girl-wallpaper.jpg  http://assets.dornob.com/wp-content/uploads/2010/04/round-home-design.jpg ...',\n",
       "  'Welcome and stuff.',\n",
       "  'http://playeressence.com/wp-content/uploads/2013/08/RED-red-the-pokemon-master-32560474-450-338.jpg  Game. Set. Match.',\n",
       "  \"Prozac, wellbrutin, at least thirty minutes of moving your legs (and I don't mean moving them while sitting in your same desk chair), weed in moderation (maybe try edibles as a healthier alternative...\",\n",
       "  \"Basically come up with three items you've determined that each type (or whichever types you want to do) would more than likely use, given each types' cognitive functions and whatnot, when left by...\",\n",
       "  'All things in moderation.  Sims is indeed a video game, and a good one at that. Note: a good one at that is somewhat subjective in that I am not completely promoting the death of any given Sim...',\n",
       "  'Dear $MBTI$:  What were your favorite video games growing up and what are your now, current favorite video games? :cool:',\n",
       "  'https://www.youtube.com/watch?v=QyPqT8umzmY',\n",
       "  'It appears to be too late. :sad:',\n",
       "  \"There's someone out there for everyone.\",\n",
       "  'Wait... I thought confidence was a good thing.',\n",
       "  \"I just cherish the time of solitude b/c i revel within my inner world more whereas most other time i'd be workin... just enjoy the me time while you can. Don't worry, people will always be around to...\",\n",
       "  \"Yo $MBTI$ ladies... if you're into a complimentary personality,well, hey.\",\n",
       "  '... when your main social outlet is xbox live conversations and even then you verbally fatigue quickly.',\n",
       "  'http://www.youtube.com/watch?v=gDhy7rdfm14  I really dig the part from 1:46 to 2:50',\n",
       "  'http://www.youtube.com/watch?v=msqXffgh7b8',\n",
       "  'Banned because this thread requires it of me.',\n",
       "  'Get high in backyard, roast and eat marshmellows in backyard while conversing over something intellectual, followed by massages and kisses.',\n",
       "  'http://www.youtube.com/watch?v=Mw7eoU3BMbE',\n",
       "  'http://www.youtube.com/watch?v=4V2uYORhQOk',\n",
       "  'http://www.youtube.com/watch?v=SlVmgFQQ0TI',\n",
       "  \"Banned for too many b's in that sentence. How could you! Think of the B!\",\n",
       "  'Banned for watching movies in the corner with the dunces.',\n",
       "  'Banned because Health class clearly taught you nothing about peer pressure.',\n",
       "  'Banned for a whole host of reasons!',\n",
       "  'http://www.youtube.com/watch?v=IRcrv41hgz4',\n",
       "  \"1) Two baby deer on left and right munching on a beetle in the middle.  2) Using their own blood, two cavemen diary today's latest happenings on their designated cave diary wall.  3) I see it as...\",\n",
       "  'a pokemon world  an $MBTI$ society  everyone becomes an optimist',\n",
       "  '49142',\n",
       "  'http://www.youtube.com/watch?v=ZRCEq_JFeFM',\n",
       "  'http://discovermagazine.com/2012/jul-aug/20-things-you-didnt-know-about-deserts/desert.jpg',\n",
       "  'http://oyster.ignimgs.com/mediawiki/apis.ign.com/pokemon-silver-version/d/dd/Ditto.gif',\n",
       "  'http://www.serebii.net/potw-dp/Scizor.jpg',\n",
       "  \"Not all artists are artists because they draw. It's the idea that counts in forming something of your own... like a signature.\",\n",
       "  \"Welcome to the robot ranks, person who downed my self-esteem cuz I'm not an avid signature artist like herself. :proud:\",\n",
       "  'Banned for taking all the room under my bed. Ya gotta learn to share with the roaches.',\n",
       "  'http://www.youtube.com/watch?v=w8IgImn57aQ',\n",
       "  'Banned for being too much of a thundering, grumbling kind of storm... yep.',\n",
       "  \"Ahh... old high school music I haven't heard in ages.   http://www.youtube.com/watch?v=dcCRUPCdB1w\",\n",
       "  \"I failed a public speaking class a few years ago and I've sort of learned what I could do better were I to be in that position again. A big part of my failure was just overloading myself with too...\",\n",
       "  \"I like this person's mentality. He's a confirmed $MBTI$ by the way. http://www.youtube.com/watch?v=hGKLI-GEc6M\",\n",
       "  \"Move to the Denver area and start a new life for myself.'\"]]"
      ]
     },
     "execution_count": 37,
     "metadata": {},
     "output_type": "execute_result"
    }
   ],
   "source": [
    "processed[0]"
   ]
  },
  {
   "cell_type": "code",
   "execution_count": 25,
   "metadata": {},
   "outputs": [
    {
     "data": {
      "text/plain": [
       "([<matplotlib.axis.YTick at 0x2729e157a20>,\n",
       "  <matplotlib.axis.YTick at 0x2729e157898>,\n",
       "  <matplotlib.axis.YTick at 0x2729e1604a8>,\n",
       "  <matplotlib.axis.YTick at 0x2729e1a1da0>,\n",
       "  <matplotlib.axis.YTick at 0x2729e1aa438>,\n",
       "  <matplotlib.axis.YTick at 0x2729e1aaac8>,\n",
       "  <matplotlib.axis.YTick at 0x2729e1b0198>,\n",
       "  <matplotlib.axis.YTick at 0x2729e1b0828>,\n",
       "  <matplotlib.axis.YTick at 0x2729e1b0eb8>,\n",
       "  <matplotlib.axis.YTick at 0x2729e1b5588>,\n",
       "  <matplotlib.axis.YTick at 0x2729e1b5c18>,\n",
       "  <matplotlib.axis.YTick at 0x2729e1bb2e8>,\n",
       "  <matplotlib.axis.YTick at 0x2729e1bb978>,\n",
       "  <matplotlib.axis.YTick at 0x2729e1c2048>,\n",
       "  <matplotlib.axis.YTick at 0x2729e1c26d8>,\n",
       "  <matplotlib.axis.YTick at 0x2729e1c2d68>],\n",
       " <a list of 16 Text yticklabel objects>)"
      ]
     },
     "execution_count": 25,
     "metadata": {},
     "output_type": "execute_result"
    },
    {
     "data": {
      "image/png": "[encoded data removed]",
      "text/plain": [
       "<matplotlib.figure.Figure at 0x2729e10ff60>"
      ]
     },
     "metadata": {},
     "output_type": "display_data"
    }
   ],
   "source": [
    "typeCounts = {key:typeCounts[key] /8676 for key in typeCounts}\n",
    "sortedTypes = sorted(((type, typeCounts[type]) for type in typeCounts), key=lambda type: typeCounts[type[0]])\n",
    "objects = [e[0] for e in sortedTypes]\n",
    "y_pos = np.arange(len(objects))\n",
    "freq = [e[1] for e in sortedTypes]\n",
    " \n",
    "plt.barh(y_pos, freq, align='center', alpha=0.5)\n",
    "plt.yticks(y_pos, objects)"
   ]
  }
 ],
 "metadata": {
  "kernelspec": {
   "display_name": "Python 3",
   "language": "python",
   "name": "python3"
  },
  "language_info": {
   "codemirror_mode": {
    "name": "ipython",
    "version": 3
   },
   "file_extension": ".py",
   "mimetype": "text/x-python",
   "name": "python",
   "nbconvert_exporter": "python",
   "pygments_lexer": "ipython3",
   "version": "3.6.4"
  }
 },
 "nbformat": 4,
 "nbformat_minor": 2
}
