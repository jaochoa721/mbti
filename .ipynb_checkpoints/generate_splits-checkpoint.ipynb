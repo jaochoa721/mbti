{
 "cells": [
  {
   "cell_type": "code",
   "execution_count": 10,
   "metadata": {},
   "outputs": [],
   "source": [
    "import pandas as pd\n",
    "import numpy as np\n",
    "import re\n",
    "\n",
    "\n",
    "df = pd.read_csv('mbti_1.csv')\n",
    "\n",
    "# replace URLs\n",
    "\n",
    "# replace MBTI\n",
    "# https://stackoverflow.com/questions/16720541/python-string-replace-regular-expression/16720705\n",
    "mbti_pat = r\"ISFJ|ESFP|ISFP|ISTP|ENFP|ENFJ|INFJ|ESTP|ESFJ|ESTJ|ENTP|INFP|INTP|INTJ|ISTJ|ENTJ\"\n",
    "mbti_regex = re.compile(mbti_pat, re.IGNORECASE)\n",
    "MBTI_REP = '$MBTI$'\n",
    "\n",
    "# replace hashtags\n",
    "hashtag_pat = r\"(\\#[a-zA-Z0-9]+\\b)\"\n",
    "hashtag_regex = re.compile(hashtag_pat)\n",
    "HASHTAG_REP = '$HASHTAG$'\n",
    "\n",
    "# Replace links with $link$\n",
    "# https://stackoverflow.com/questions/3809401/what-is-a-good-regular-expression-to-match-a-url\n",
    "link_pat = r\"(http(s)?:\\/\\/.)?(www\\.)?[-a-zA-Z0-9@:%._\\+~#=]{2,256}\\.[a-z]{2,6}\\b([-a-zA-Z0-9@:%_\\+.~#?&//=]*)\"\n",
    "LINK_REP = '$LINK$'\n",
    "\n",
    "df['posts'] = df['posts'].apply(lambda x: re.sub(mbti_pat, MBTI_REP, x))\n",
    "df['posts'] = df['posts'].apply(lambda x: re.sub(hashtag_pat, HASHTAG_REP, x))\n",
    "df['posts'] = df['posts'].apply(lambda x: re.sub(link_pat, LINK_REP, x))\n",
    "\n",
    "\n",
    "df['posts'] = df['posts'].apply(lambda x: x.split('|||'))"
   ]
  },
  {
   "cell_type": "code",
   "execution_count": 31,
   "metadata": {},
   "outputs": [],
   "source": [
    "df['IE'] = df['type'].apply(lambda x: 'I' if x[0] == 'I' else 'E')\n",
    "df['NS'] = df['type'].apply(lambda x: 'N' if x[1] == 'N' else 'S')\n",
    "df['FT'] = df['type'].apply(lambda x: 'F' if x[2] == 'F' else 'T')\n",
    "df['PJ'] = df['type'].apply(lambda x: 'P' if x[3] == 'P' else 'J')"
   ]
  },
  {
   "cell_type": "code",
   "execution_count": 26,
   "metadata": {},
   "outputs": [
    {
     "data": {
      "text/plain": [
       "['type', 'posts', 'IJ', 'NS', 'FT', 'PJ']"
      ]
     },
     "execution_count": 26,
     "metadata": {},
     "output_type": "execute_result"
    }
   ],
   "source": [
    "list(df.columns)"
   ]
  },
  {
   "cell_type": "code",
   "execution_count": 21,
   "metadata": {},
   "outputs": [],
   "source": [
    "train, dev, test = np.split(df.sample(frac=1), [int(.6*len(df)), int(.8*len(df))])"
   ]
  },
  {
   "cell_type": "code",
   "execution_count": 32,
   "metadata": {},
   "outputs": [],
   "source": [
    "df_ie = df[['type', 'posts', 'IE']]\n",
    "df_ns = df[['type', 'posts', 'NS']]\n",
    "df_ft = df[['type', 'posts', 'FT']]\n",
    "df_pj = df[['type', 'posts', 'PJ']]"
   ]
  },
  {
   "cell_type": "code",
   "execution_count": 42,
   "metadata": {},
   "outputs": [
    {
     "data": {
      "text/plain": [
       "0.95"
      ]
     },
     "execution_count": 42,
     "metadata": {},
     "output_type": "execute_result"
    }
   ],
   "source": [
    "train_pct = 0.6\n",
    "\n",
    "# indicates the location to split the data along\n",
    "# since dev/test are the same size\n",
    "test_split_position = 1.0 - (1.0 - train_pct) / 2\n",
    "test_split_position"
   ]
  },
  {
   "cell_type": "code",
   "execution_count": 41,
   "metadata": {},
   "outputs": [],
   "source": [
    "train_ie, dev_ie, test_ie = np.split(df_ie.sample(frac=1), [int(train_pct*len(df_ie)), int(test_split_position*len(df_ie))])\n",
    "train_ns, dev_ns, test_ns = np.split(df_ns.sample(frac=1), [int(train_pct*len(df_ns)), int(test_split_position*len(df_ns))])\n",
    "train_ft, dev_ft, test_ft = np.split(df_ft.sample(frac=1), [int(train_pct*len(df_ft)), int(test_split_position*len(df_ft))])\n",
    "train_pj, dev_pj, test_pj = np.split(df_pj.sample(frac=1), [int(train_pct*len(df_pj)), int(test_split_position*len(df_pj))])"
   ]
  },
  {
   "cell_type": "code",
   "execution_count": 36,
   "metadata": {},
   "outputs": [
    {
     "data": {
      "text/plain": [
       "5205.0"
      ]
     },
     "execution_count": 36,
     "metadata": {},
     "output_type": "execute_result"
    }
   ],
   "source": [
    ".6*len(df_ie)"
   ]
  },
  {
   "cell_type": "code",
   "execution_count": null,
   "metadata": {},
   "outputs": [],
   "source": []
  }
 ],
 "metadata": {
  "kernelspec": {
   "display_name": "Python 3",
   "language": "python",
   "name": "python3"
  },
  "language_info": {
   "codemirror_mode": {
    "name": "ipython",
    "version": 3
   },
   "file_extension": ".py",
   "mimetype": "text/x-python",
   "name": "python",
   "nbconvert_exporter": "python",
   "pygments_lexer": "ipython3",
   "version": "3.6.4"
  }
 },
 "nbformat": 4,
 "nbformat_minor": 2
}
