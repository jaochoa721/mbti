{
 "cells": [
  {
   "cell_type": "code",
   "execution_count": 29,
   "metadata": {},
   "outputs": [],
   "source": [
    "import pandas as pd\n",
    "import numpy as np\n",
    "import re\n",
    "\n",
    "\n",
    "df = pd.read_csv('mbti_1.csv')\n",
    "\n",
    "# replace URLs\n",
    "\n",
    "# replace MBTI\n",
    "# https://stackoverflow.com/questions/16720541/python-string-replace-regular-expression/16720705\n",
    "mbti_pat = r\"ISFJ|ESFP|ISFP|ISTP|ENFP|ENFJ|INFJ|ESTP|ESFJ|ESTJ|ENTP|INFP|INTP|INTJ|ISTJ|ENTJ\"\n",
    "mbti_regex = re.compile(mbti_pat, re.IGNORECASE)\n",
    "MBTI_REP = '$MBTI$'\n",
    "\n",
    "# replace hashtags\n",
    "hashtag_pat = r\"(\\#[a-zA-Z0-9]+\\b)\"\n",
    "hashtag_regex = re.compile(hashtag_pat)\n",
    "HASHTAG_REP = '$HASHTAG$'\n",
    "\n",
    "# Replace links with $link$\n",
    "# https://stackoverflow.com/questions/3809401/what-is-a-good-regular-expression-to-match-a-url\n",
    "link_pat = r\"(http(s)?:\\/\\/.)?(www\\.)?[-a-zA-Z0-9@:%._\\+~#=]{2,256}\\.[a-z]{2,6}\\b([-a-zA-Z0-9@:%_\\+.~#?&//=]*)\"\n",
    "LINK_REP = '$LINK$'"
   ]
  },
  {
   "cell_type": "code",
   "execution_count": 30,
   "metadata": {},
   "outputs": [],
   "source": [
    "df['posts'] = df['posts'].apply(lambda x: re.sub(mbti_pat, MBTI_REP, x))\n",
    "df['posts'] = df['posts'].apply(lambda x: re.sub(hashtag_pat, HASHTAG_REP, x))\n",
    "df['posts'] = df['posts'].apply(lambda x: re.sub(link_pat, LINK_REP, x))\n",
    "\n",
    "\n",
    "df['posts'] = df['posts'].apply(lambda x: x.replace('|||', ''))"
   ]
  },
  {
   "cell_type": "code",
   "execution_count": 31,
   "metadata": {},
   "outputs": [],
   "source": [
    "df['IE'] = df['type'].apply(lambda x: 'I' if x[0] == 'I' else 'E')\n",
    "df['NS'] = df['type'].apply(lambda x: 'N' if x[1] == 'N' else 'S')\n",
    "df['FT'] = df['type'].apply(lambda x: 'F' if x[2] == 'F' else 'T')\n",
    "df['PJ'] = df['type'].apply(lambda x: 'P' if x[3] == 'P' else 'J')"
   ]
  },
  {
   "cell_type": "code",
   "execution_count": 32,
   "metadata": {},
   "outputs": [
    {
     "data": {
      "text/plain": [
       "['type', 'posts', 'IE', 'NS', 'FT', 'PJ']"
      ]
     },
     "execution_count": 32,
     "metadata": {},
     "output_type": "execute_result"
    }
   ],
   "source": [
    "list(df.columns)"
   ]
  },
  {
   "cell_type": "code",
   "execution_count": 33,
   "metadata": {},
   "outputs": [],
   "source": [
    "train, dev, test = np.split(df.sample(frac=1), [int(.6*len(df)), int(.8*len(df))])"
   ]
  },
  {
   "cell_type": "code",
   "execution_count": 34,
   "metadata": {},
   "outputs": [],
   "source": [
    "df_ie = df[['type', 'posts', 'IE']]\n",
    "df_ns = df[['type', 'posts', 'NS']]\n",
    "df_ft = df[['type', 'posts', 'FT']]\n",
    "df_pj = df[['type', 'posts', 'PJ']]"
   ]
  },
  {
   "cell_type": "code",
   "execution_count": 35,
   "metadata": {},
   "outputs": [
    {
     "data": {
      "text/plain": [
       "0.8"
      ]
     },
     "execution_count": 35,
     "metadata": {},
     "output_type": "execute_result"
    }
   ],
   "source": [
    "train_pct = 0.6\n",
    "\n",
    "# indicates the location to split the data along\n",
    "# since dev/test are the same size\n",
    "test_split_position = 1.0 - (1.0 - train_pct) / 2\n",
    "test_split_position"
   ]
  },
  {
   "cell_type": "code",
   "execution_count": 36,
   "metadata": {},
   "outputs": [],
   "source": [
    "train_ie, dev_ie, test_ie = np.split(df_ie.sample(frac=1), [int(train_pct*len(df_ie)), int(test_split_position*len(df_ie))])\n",
    "train_ns, dev_ns, test_ns = np.split(df_ns.sample(frac=1), [int(train_pct*len(df_ns)), int(test_split_position*len(df_ns))])\n",
    "train_ft, dev_ft, test_ft = np.split(df_ft.sample(frac=1), [int(train_pct*len(df_ft)), int(test_split_position*len(df_ft))])\n",
    "train_pj, dev_pj, test_pj = np.split(df_pj.sample(frac=1), [int(train_pct*len(df_pj)), int(test_split_position*len(df_pj))])"
   ]
  },
  {
   "cell_type": "code",
   "execution_count": 37,
   "metadata": {},
   "outputs": [
    {
     "data": {
      "text/html": [
       "<div>\n",
       "<style scoped>\n",
       "    .dataframe tbody tr th:only-of-type {\n",
       "        vertical-align: middle;\n",
       "    }\n",
       "\n",
       "    .dataframe tbody tr th {\n",
       "        vertical-align: top;\n",
       "    }\n",
       "\n",
       "    .dataframe thead th {\n",
       "        text-align: right;\n",
       "    }\n",
       "</style>\n",
       "<table border=\"1\" class=\"dataframe\">\n",
       "  <thead>\n",
       "    <tr style=\"text-align: right;\">\n",
       "      <th></th>\n",
       "      <th>type</th>\n",
       "      <th>posts</th>\n",
       "      <th>IE</th>\n",
       "    </tr>\n",
       "  </thead>\n",
       "  <tbody>\n",
       "    <tr>\n",
       "      <th>6669</th>\n",
       "      <td>INTJ</td>\n",
       "      <td>'I was certain that Peter Pan was real, and sl...</td>\n",
       "      <td>I</td>\n",
       "    </tr>\n",
       "    <tr>\n",
       "      <th>2254</th>\n",
       "      <td>INFJ</td>\n",
       "      <td>Hi everyonex85This is the first time I visited...</td>\n",
       "      <td>I</td>\n",
       "    </tr>\n",
       "    <tr>\n",
       "      <th>8640</th>\n",
       "      <td>INTP</td>\n",
       "      <td>'This is a great thread... I find it interesti...</td>\n",
       "      <td>I</td>\n",
       "    </tr>\n",
       "    <tr>\n",
       "      <th>3601</th>\n",
       "      <td>ENFP</td>\n",
       "      <td>'Also, sometimes I find myself very dependent ...</td>\n",
       "      <td>E</td>\n",
       "    </tr>\n",
       "    <tr>\n",
       "      <th>1389</th>\n",
       "      <td>ISTP</td>\n",
       "      <td>'I can't stand pretentious people, Chatty Cath...</td>\n",
       "      <td>I</td>\n",
       "    </tr>\n",
       "  </tbody>\n",
       "</table>\n",
       "</div>"
      ],
      "text/plain": [
       "      type                                              posts IE\n",
       "6669  INTJ  'I was certain that Peter Pan was real, and sl...  I\n",
       "2254  INFJ  Hi everyonex85This is the first time I visited...  I\n",
       "8640  INTP  'This is a great thread... I find it interesti...  I\n",
       "3601  ENFP  'Also, sometimes I find myself very dependent ...  E\n",
       "1389  ISTP  'I can't stand pretentious people, Chatty Cath...  I"
      ]
     },
     "execution_count": 37,
     "metadata": {},
     "output_type": "execute_result"
    }
   ],
   "source": [
    "dev_ie.head()"
   ]
  },
  {
   "cell_type": "code",
   "execution_count": 50,
   "metadata": {},
   "outputs": [
    {
     "data": {
      "text/plain": [
       "(5205, 95901)"
      ]
     },
     "execution_count": 50,
     "metadata": {},
     "output_type": "execute_result"
    }
   ],
   "source": [
    "from sklearn.feature_extraction.text import CountVectorizer\n",
    "count_vect = CountVectorizer()\n",
    "\n",
    "# baseline for IE\n",
    "train_counts_ie = count_vect.fit_transform(list(train_ie['posts']))\n",
    "train_counts_ie.shape"
   ]
  },
  {
   "cell_type": "code",
   "execution_count": 56,
   "metadata": {},
   "outputs": [],
   "source": [
    "from sklearn.naive_bayes import MultinomialNB\n",
    "from sklearn.pipeline import Pipeline\n",
    "text_clf = Pipeline([('vect', CountVectorizer()), ('clf', MultinomialNB())])"
   ]
  },
  {
   "cell_type": "code",
   "execution_count": 55,
   "metadata": {},
   "outputs": [
    {
     "data": {
      "text/plain": [
       "0.7855907780979827"
      ]
     },
     "execution_count": 55,
     "metadata": {},
     "output_type": "execute_result"
    }
   ],
   "source": [
    "#IE dev set\n",
    "text_clf.fit(train_ie['posts'], train_ie['IE'])  \n",
    "predicted_ie = text_clf.predict(dev_ie['posts'])\n",
    "np.mean(predicted_ie == dev_ie['IE'])"
   ]
  },
  {
   "cell_type": "code",
   "execution_count": 60,
   "metadata": {},
   "outputs": [
    {
     "data": {
      "text/plain": [
       "0.8668587896253602"
      ]
     },
     "execution_count": 60,
     "metadata": {},
     "output_type": "execute_result"
    }
   ],
   "source": [
    "#NS dev set\n",
    "text_clf.fit(train_ns['posts'], train_ns['NS'])  \n",
    "predicted_ns = text_clf.predict(dev_ns['posts'])\n",
    "np.mean(predicted_ns == dev_ns['NS'])"
   ]
  },
  {
   "cell_type": "code",
   "execution_count": 61,
   "metadata": {},
   "outputs": [
    {
     "data": {
      "text/plain": [
       "0.7602305475504323"
      ]
     },
     "execution_count": 61,
     "metadata": {},
     "output_type": "execute_result"
    }
   ],
   "source": [
    "#FT dev set\n",
    "text_clf.fit(train_ft['posts'], train_ft['FT'])  \n",
    "predicted_ft = text_clf.predict(dev_ft['posts'])\n",
    "np.mean(predicted_ft == dev_ft['FT'])"
   ]
  },
  {
   "cell_type": "code",
   "execution_count": 62,
   "metadata": {},
   "outputs": [
    {
     "data": {
      "text/plain": [
       "0.6484149855907781"
      ]
     },
     "execution_count": 62,
     "metadata": {},
     "output_type": "execute_result"
    }
   ],
   "source": [
    "#PJ dev set\n",
    "text_clf.fit(train_pj['posts'], train_pj['PJ'])  \n",
    "predicted_pj = text_clf.predict(dev_pj['posts'])\n",
    "np.mean(predicted_pj == dev_pj['PJ'])"
   ]
  },
  {
   "cell_type": "code",
   "execution_count": 71,
   "metadata": {},
   "outputs": [
    {
     "data": {
      "text/plain": [
       "3471    'I broke the windshield.  With my foot.  When ...\n",
       "5765    'From the place of the collective unconscious,...\n",
       "8486    'Me.  For me i will attempt to take interest i...\n",
       "1675    'Great! I sent you a challenge. :)I'm a marrie...\n",
       "4270    'Heart of Darkness On the RoadI like to use pa...\n",
       "7075    '29 out of 36 as well.  Which is actually rema...\n",
       "1484    'I do love to stumble upon fascinating connect...\n",
       "4548    'From my experience this is very common with N...\n",
       "7968    'Dear $MBTI$,   I don't like how you feel the ...\n",
       "977     '4, 22, 31, 34, 37, 42, 54, 64, 72, 84  17 is ...\n",
       "5128    'calm pleasant  soothing relaxing soft gentle ...\n",
       "5558    'Ti - Ni - Te - Ne - Se - Si - Fi - Fe  If we ...\n",
       "5043    'House is more of our goal. There, apparently,...\n",
       "4306    'The first, no doubt. Explaining why is somewh...\n",
       "7555    'That happens to me all the time, most annoyin...\n",
       "8190    'This got a little bit off-topic but I don't m...\n",
       "3809    'I dunno, I mean, where are their egos, LOL? C...\n",
       "5630    'jamiebond Ok, cool!  Waiting Aha yep, but at ...\n",
       "6075    'BRAND NEW. HOLY CRAP BRAND NEWWWWWW ; A;  + B...\n",
       "7842    'Game developing/ degree in literature not an ...\n",
       "8519    'Nah I'm like 5'7/5'8, I wasn't emotional when...\n",
       "7293    'I love your blog! So many moody purples and b...\n",
       "182     'What are you? A weakling? You're just going t...\n",
       "724     'In any no specific order some of my favorites...\n",
       "3379    'I tend to be attracted to whats familiar, I w...\n",
       "4003    'Im a little of being in a $MBTI$ forum but i ...\n",
       "3430    '$LINK$:D We adore you too!My favorite type of...\n",
       "910     'More dead than before.  This place used to be...\n",
       "8384    '$MBTI$ and I got *drumroll* Neutral Good! Who...\n",
       "3947    'My sense of humor is a lot of play on words, ...\n",
       "                              ...                        \n",
       "504     'I can understand the irritability that comes ...\n",
       "8203    'With $MBTI$s I feel that strong sense of attr...\n",
       "7348    'I think you're assuming I didn't want honesty...\n",
       "6325    'When I was in first grade, I punched a guy fo...\n",
       "5924    'I'm kind of a month too late for this fight, ...\n",
       "7657    'I would judge it based on whether you use mor...\n",
       "5148    Inspired by a recent book club thread here on ...\n",
       "3085    'we are all in the same boat, we have a connec...\n",
       "1597    'Recently watched Fantastic Beasts and Where t...\n",
       "7560    'Have you ever watched a television show, movi...\n",
       "8127    'I've never come across an $MBTI$ IRL, so I co...\n",
       "4793    'I honestly think PerC's debate/current events...\n",
       "1823    'Great empires crumble in to the sea , and are...\n",
       "3593    'Yes$LINK$Couldn't have happened to a nicer gu...\n",
       "2040    Yeah, this happens to me with relatives and so...\n",
       "5246    I'm sorry, let me rectify.You wont find anyone...\n",
       "2121    DarlingWildflower Welcome to PerC!I'm not sure...\n",
       "5268    'Hello there! Welcome to PerC :proud:I can't f...\n",
       "6268    'Thinking about transgender stuff...  It's har...\n",
       "8482    'After several years of studying socionics, i ...\n",
       "7282    'For me nihilism is a starting point to filter...\n",
       "8505    'I can relate to this. $MBTI$s are great, but ...\n",
       "1684    'But, how does it make you, as an $MBTI$, feel...\n",
       "5638    'HOW TO ADD YOURSELF TO THE LIST:   Please use...\n",
       "5131    'Unpredictability can be interesting.   Unrela...\n",
       "8301    'I happen to be a helicopter mechanic, but whe...\n",
       "109     'How is that even anatomically possible?Uhhh, ...\n",
       "3654    'Honestly, I'm up in the air about this one. I...\n",
       "8202    This is how I pretty much saw it as well. His ...\n",
       "1474    'Yes, it does.  Makes sense.  And that's why S...\n",
       "Name: posts, Length: 1735, dtype: object"
      ]
     },
     "execution_count": 71,
     "metadata": {},
     "output_type": "execute_result"
    }
   ],
   "source": [
    "dev_ft['posts']"
   ]
  },
  {
   "cell_type": "code",
   "execution_count": null,
   "metadata": {},
   "outputs": [],
   "source": []
  }
 ],
 "metadata": {
  "kernelspec": {
   "display_name": "Python 3",
   "language": "python",
   "name": "python3"
  },
  "language_info": {
   "codemirror_mode": {
    "name": "ipython",
    "version": 3
   },
   "file_extension": ".py",
   "mimetype": "text/x-python",
   "name": "python",
   "nbconvert_exporter": "python",
   "pygments_lexer": "ipython3",
   "version": "3.6.4"
  }
 },
 "nbformat": 4,
 "nbformat_minor": 2
}
